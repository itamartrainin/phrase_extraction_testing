{
 "metadata": {
  "language_info": {
   "codemirror_mode": {
    "name": "ipython",
    "version": 3
   },
   "file_extension": ".py",
   "mimetype": "text/x-python",
   "name": "python",
   "nbconvert_exporter": "python",
   "pygments_lexer": "ipython3",
   "version": "3.7.9-final"
  },
  "orig_nbformat": 2,
  "kernelspec": {
   "name": "python3",
   "display_name": "Python 3.7.9 64-bit",
   "metadata": {
    "interpreter": {
     "hash": "1cfab0c68b37bd44850398e807e07ae368ba654a5b67120d26dc2f82174f953f"
    }
   }
  }
 },
 "nbformat": 4,
 "nbformat_minor": 2,
 "cells": [
  {
   "cell_type": "code",
   "execution_count": 16,
   "metadata": {},
   "outputs": [],
   "source": [
    "from rake_nltk import Rake\n",
    "from nltk.corpus import stopwords"
   ]
  },
  {
   "cell_type": "code",
   "execution_count": 29,
   "metadata": {},
   "outputs": [
    {
     "output_type": "stream",
     "name": "stdout",
     "text": [
      "geo political confrences\n3rd world countries\noften attend\nlike strawberries\nemergency jobs\nbig impact\ncorona virus\ncorona\nway\nstay\npeople\nname\nlockdown\nlives\nitamar\nhome\nhello\nage\naddition\n"
     ]
    }
   ],
   "source": [
    "r = Rake()\n",
    "\n",
    "text='Hello my name is Itamar and I like strawberries. In addition I often attend to geo political confrences in 3rd world countries.\\nIn the age of the corona, people have to stay in lockdown while other people who have emergency jobs have to stay at home.\\nThis way the corona virus has a big impact on our lives.'\n",
    "\n",
    "a=r.extract_keywords_from_text(text)\n",
    "b=r.get_ranked_phrases()\n",
    "\n",
    "for phrase in b:\n",
    "    print(phrase) "
   ]
  },
  {
   "cell_type": "code",
   "execution_count": 32,
   "metadata": {},
   "outputs": [
    {
     "output_type": "stream",
     "name": "stdout",
     "text": [
      "בנוסף לוירוס הקורונה הייתה השפעה גדולה על חיי\nבנוסף אני משתתף הרבה בכנסים שעוסקים בנושאים גיאו\nקוראים לי איתמר ואני אוהב תותים\nפוליטיים במדינות עולם שלישי\nשלום\n"
     ]
    }
   ],
   "source": [
    "text='שלום, קוראים לי איתמר ואני אוהב תותים. בנוסף אני משתתף הרבה בכנסים שעוסקים בנושאים גיאו-פוליטיים במדינות עולם שלישי. בנוסף לוירוס הקורונה הייתה השפעה גדולה על חיי.'\n",
    "\n",
    "a=r.extract_keywords_from_text(text)\n",
    "b=r.get_ranked_phrases()\n",
    "\n",
    "for phrase in b:\n",
    "    print(phrase) "
   ]
  },
  {
   "cell_type": "code",
   "execution_count": null,
   "metadata": {},
   "outputs": [],
   "source": []
  }
 ]
}
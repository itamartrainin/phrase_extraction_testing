{
 "metadata": {
  "language_info": {
   "codemirror_mode": {
    "name": "ipython",
    "version": 3
   },
   "file_extension": ".py",
   "mimetype": "text/x-python",
   "name": "python",
   "nbconvert_exporter": "python",
   "pygments_lexer": "ipython3",
   "version": "3.7.9-final"
  },
  "orig_nbformat": 2,
  "kernelspec": {
   "name": "python3",
   "display_name": "Python 3.7.9 64-bit",
   "metadata": {
    "interpreter": {
     "hash": "1cfab0c68b37bd44850398e807e07ae368ba654a5b67120d26dc2f82174f953f"
    }
   }
  }
 },
 "nbformat": 4,
 "nbformat_minor": 2,
 "cells": [
  {
   "cell_type": "code",
   "execution_count": 56,
   "metadata": {},
   "outputs": [],
   "source": [
    "import re\n",
    "import string\n",
    "import pandas as pd\n",
    "from datetime import datetime"
   ]
  },
  {
   "cell_type": "code",
   "execution_count": 57,
   "metadata": {},
   "outputs": [
    {
     "output_type": "execute_result",
     "data": {
      "text/plain": [
       "                 date          username  \\\n",
       "0 2018-02-27 13:28:00  @realDonaldTrump   \n",
       "1 2018-02-27 13:45:00  @realDonaldTrump   \n",
       "2 2018-02-27 13:49:00  @realDonaldTrump   \n",
       "3 2018-02-27 19:11:00  @realDonaldTrump   \n",
       "4 2018-02-27 19:18:00  @realDonaldTrump   \n",
       "\n",
       "                                             content  \\\n",
       "0  “I’ve been skeptical about the collusion and o...   \n",
       "1  “We’ve seen NO EVIDENCE OF COLLUSION....I have...   \n",
       "2                                        WITCH HUNT!   \n",
       "3  I want to encourage all of my many Texas frien...   \n",
       "4  “American consumers are the most confident the...   \n",
       "\n",
       "                                                 url  \n",
       "0  http://twitter.com/realDonaldTrump/status/9684...  \n",
       "1  http://twitter.com/realDonaldTrump/status/9684...  \n",
       "2  http://twitter.com/realDonaldTrump/status/9684...  \n",
       "3  http://twitter.com/realDonaldTrump/status/9685...  \n",
       "4  http://twitter.com/realDonaldTrump/status/9685...  "
      ],
      "text/html": "<div>\n<style scoped>\n    .dataframe tbody tr th:only-of-type {\n        vertical-align: middle;\n    }\n\n    .dataframe tbody tr th {\n        vertical-align: top;\n    }\n\n    .dataframe thead th {\n        text-align: right;\n    }\n</style>\n<table border=\"1\" class=\"dataframe\">\n  <thead>\n    <tr style=\"text-align: right;\">\n      <th></th>\n      <th>date</th>\n      <th>username</th>\n      <th>content</th>\n      <th>url</th>\n    </tr>\n  </thead>\n  <tbody>\n    <tr>\n      <th>0</th>\n      <td>2018-02-27 13:28:00</td>\n      <td>@realDonaldTrump</td>\n      <td>“I’ve been skeptical about the collusion and o...</td>\n      <td>http://twitter.com/realDonaldTrump/status/9684...</td>\n    </tr>\n    <tr>\n      <th>1</th>\n      <td>2018-02-27 13:45:00</td>\n      <td>@realDonaldTrump</td>\n      <td>“We’ve seen NO EVIDENCE OF COLLUSION....I have...</td>\n      <td>http://twitter.com/realDonaldTrump/status/9684...</td>\n    </tr>\n    <tr>\n      <th>2</th>\n      <td>2018-02-27 13:49:00</td>\n      <td>@realDonaldTrump</td>\n      <td>WITCH HUNT!</td>\n      <td>http://twitter.com/realDonaldTrump/status/9684...</td>\n    </tr>\n    <tr>\n      <th>3</th>\n      <td>2018-02-27 19:11:00</td>\n      <td>@realDonaldTrump</td>\n      <td>I want to encourage all of my many Texas frien...</td>\n      <td>http://twitter.com/realDonaldTrump/status/9685...</td>\n    </tr>\n    <tr>\n      <th>4</th>\n      <td>2018-02-27 19:18:00</td>\n      <td>@realDonaldTrump</td>\n      <td>“American consumers are the most confident the...</td>\n      <td>http://twitter.com/realDonaldTrump/status/9685...</td>\n    </tr>\n  </tbody>\n</table>\n</div>"
     },
     "metadata": {},
     "execution_count": 57
    }
   ],
   "source": [
    "df = pd.read_excel('C:/Data/TopicModeling/realDonaldTrump_tweets.xlsx', names=['date', 'username', 'content', 'url'])\n",
    "df['date'] = df['date'].apply(lambda x: datetime.strptime(x, '%B %d, %Y at %I:%M%p'))\n",
    "df.head()"
   ]
  },
  {
   "cell_type": "code",
   "execution_count": 58,
   "metadata": {},
   "outputs": [
    {
     "output_type": "execute_result",
     "data": {
      "text/plain": [
       "'Date range: 2018-02-27 13:28:00 - 2018-09-15 22:54:00'"
      ]
     },
     "metadata": {},
     "execution_count": 58
    }
   ],
   "source": [
    "'Date range: {} - {}'.format(min(df['date']), max(df['date']))"
   ]
  },
  {
   "cell_type": "code",
   "execution_count": 59,
   "metadata": {},
   "outputs": [
    {
     "output_type": "execute_result",
     "data": {
      "text/plain": [
       "'Total tweets: 1999'"
      ]
     },
     "metadata": {},
     "execution_count": 59
    }
   ],
   "source": [
    "'Total tweets: {}'.format(len(df))"
   ]
  },
  {
   "cell_type": "code",
   "execution_count": 60,
   "metadata": {},
   "outputs": [
    {
     "output_type": "execute_result",
     "data": {
      "text/plain": [
       "Index(['date', 'username', 'content', 'url'], dtype='object')"
      ]
     },
     "metadata": {},
     "execution_count": 60
    }
   ],
   "source": [
    "df.columns"
   ]
  },
  {
   "cell_type": "code",
   "execution_count": 61,
   "metadata": {},
   "outputs": [],
   "source": [
    "df['content_pp'] = df['content']"
   ]
  },
  {
   "cell_type": "code",
   "execution_count": 71,
   "metadata": {},
   "outputs": [],
   "source": [
    "#Remove URLs\n",
    "REG_URL = '\\W*https*://[a-zA-Z0-9' + string.punctuation + ']+(\\W|$)'\n",
    "\n",
    "REG = re.compile(REG_URL)\n",
    "\n",
    "df['content_pp'] = df['content_pp'].apply(lambda x: REG.sub('', x))"
   ]
  },
  {
   "cell_type": "code",
   "execution_count": 53,
   "metadata": {},
   "outputs": [],
   "source": [
    "REG_PUNCT = r'[^a-zA-Z0-9]'\n",
    "REG_START_PUNCT = r'^' + REG_PUNCT + r'+'\n",
    "REG_END_PUNCT = REG_PUNCT + r'+$'\n",
    "REG_START_OR_END_PUNCT = REG_START_PUNCT + r'|' + REG_END_PUNCT\n",
    "\n",
    "REG = re.compile(REG_START_OR_END_PUNCT)\n",
    "\n",
    "df['content_pp'] = df['content'].apply(lambda x: REG.sub('', x))\n"
   ]
  },
  {
   "cell_type": "code",
   "execution_count": 43,
   "metadata": {},
   "outputs": [
    {
     "output_type": "execute_result",
     "data": {
      "text/plain": [
       "'!\"#$%&\\'()*+,-./:;<=>?@[\\\\]^_`{|}~'"
      ]
     },
     "metadata": {},
     "execution_count": 43
    }
   ],
   "source": []
  },
  {
   "cell_type": "code",
   "execution_count": null,
   "metadata": {},
   "outputs": [],
   "source": [
    "df = df[['date', 'username', 'content', 'content_pp', 'url']]"
   ]
  }
 ]
}